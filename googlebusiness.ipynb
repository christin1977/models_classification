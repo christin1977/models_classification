{
 "cells": [
  {
   "cell_type": "code",
   "execution_count": 18,
   "id": "bdd2d42b",
   "metadata": {},
   "outputs": [],
   "source": [
    "import json, requests, csv\n",
    "import pandas as pd\n",
    "import csv, re, time\n",
    "from datetime import datetime\n",
    "from textblob import TextBlob\n",
    "import numpy as np\n",
    "from bs4 import BeautifulSoup\n",
    "from dateutil.parser import parse\n",
    "from sumy.parsers.plaintext import PlaintextParser\n",
    "from sumy.nlp.tokenizers import Tokenizer\n",
    "from sumy.summarizers.lsa import LsaSummarizer as Summarizer\n",
    "import math"
   ]
  },
  {
   "cell_type": "code",
   "execution_count": 19,
   "id": "049d6ec6",
   "metadata": {},
   "outputs": [],
   "source": [
    "# creation du fichier company\n",
    "\n",
    "url_company = 'C:/Users/chris/OneDrive/Bureau/PrescriptiveFS/webscrap/03032024/Company-2024-03-03.csv'\n",
    "data_company = pd.read_csv(url_company)\n",
    "\n",
    "\n",
    "# creation du fichier lookup business\n",
    "\n",
    "url_Googlebusinesslookup = 'C:/Users/chris/OneDrive/Bureau/PrescriptiveFS/webscrap/03032024/GooglebusinessLookup-2024-03-04.csv'\n",
    "Googlebusinesslookup = pd.read_csv(url_Googlebusinesslookup)\n",
    "\n",
    "# creation du fichier lookup business\n",
    "\n",
    "url_Googlebusinessmatched = 'C:/Users/chris/OneDrive/Bureau/PrescriptiveFS/webscrap/03032024/GooglebusinessMatched-2024-03-04.csv'\n",
    "Googlebusinessmatched = pd.read_csv(url_Googlebusinessmatched)\n",
    "\n",
    "# creation du fichier reviews\n",
    "\n",
    "url_GooglebusinessReviews = 'C:/Users/chris/OneDrive/Bureau/PrescriptiveFS/webscrap/03032024/GooglebusinessReviews-2024-03-04.csv'\n",
    "GooglebusinessReviews = pd.read_csv(url_GooglebusinessReviews)"
   ]
  },
  {
   "cell_type": "code",
   "execution_count": 20,
   "id": "e352015e",
   "metadata": {},
   "outputs": [],
   "source": [
    "company_list = []\n",
    "SIRET_list = []\n",
    "\n",
    "# Itérer sur chaque ligne du DataFrame\n",
    "for index, occurrence in data_company.iterrows():\n",
    "    company = occurrence['id']  # Assurez-vous que 'id' est le nom correct de la colonne\n",
    "    SIRET = occurrence['siret']  # Assurez-vous que 'siret' est le nom correct de la colonne\n",
    "    company_list.append(company)\n",
    "    SIRET_list.append(SIRET)\n",
    "\n",
    "Id_SIRET = dict(zip(company_list, SIRET_list))"
   ]
  },
  {
   "cell_type": "code",
   "execution_count": 21,
   "id": "07c1c07f",
   "metadata": {},
   "outputs": [
    {
     "name": "stdout",
     "output_type": "stream",
     "text": [
      "<class 'pandas.core.frame.DataFrame'>\n",
      "RangeIndex: 141 entries, 0 to 140\n",
      "Data columns (total 23 columns):\n",
      " #   Column                 Non-Null Count  Dtype  \n",
      "---  ------                 --------------  -----  \n",
      " 0   id                     141 non-null    int64  \n",
      " 1   company                141 non-null    int64  \n",
      " 2   google_results         135 non-null    object \n",
      " 3   local_results          0 non-null      float64\n",
      " 4   scraped                135 non-null    float64\n",
      " 5   scraped_date           135 non-null    object \n",
      " 6   scrap_log              0 non-null      float64\n",
      " 7   scrap_cost             141 non-null    int64  \n",
      " 8   extracted              134 non-null    float64\n",
      " 9   name_content           38 non-null     object \n",
      " 10  address_content        36 non-null     object \n",
      " 11  rating_content         32 non-null     float64\n",
      " 12  reviews_content        33 non-null     float64\n",
      " 13  other_reviews_content  5 non-null      object \n",
      " 14  website_content        23 non-null     object \n",
      " 15  reviews_url_content    36 non-null     object \n",
      " 16  lat_content            36 non-null     float64\n",
      " 17  lng_content            36 non-null     float64\n",
      " 18  website_valid          16 non-null     float64\n",
      " 19  coord_valid            18 non-null     float64\n",
      " 20  postal_code_valid      14 non-null     float64\n",
      " 21  tested                 38 non-null     float64\n",
      " 22  valid_relation         33 non-null     float64\n",
      "dtypes: float64(13), int64(3), object(7)\n",
      "memory usage: 25.5+ KB\n"
     ]
    }
   ],
   "source": [
    "Googlebusinesslookup.info()"
   ]
  },
  {
   "cell_type": "code",
   "execution_count": 22,
   "id": "b11e2bce",
   "metadata": {},
   "outputs": [
    {
     "name": "stdout",
     "output_type": "stream",
     "text": [
      "<class 'pandas.core.frame.DataFrame'>\n",
      "RangeIndex: 140 entries, 0 to 139\n",
      "Data columns (total 20 columns):\n",
      " #   Column                 Non-Null Count  Dtype  \n",
      "---  ------                 --------------  -----  \n",
      " 0   id                     140 non-null    int64  \n",
      " 1   company                140 non-null    int64  \n",
      " 2   google_results         140 non-null    object \n",
      " 3   local_results          0 non-null      float64\n",
      " 4   scraped                140 non-null    int64  \n",
      " 5   scraped_date           140 non-null    object \n",
      " 6   scrap_log              0 non-null      float64\n",
      " 7   scrap_cost             140 non-null    int64  \n",
      " 8   name_content           140 non-null    object \n",
      " 9   address_content        140 non-null    object \n",
      " 10  rating_content         133 non-null    float64\n",
      " 11  reviews_content        133 non-null    float64\n",
      " 12  other_reviews_content  44 non-null     object \n",
      " 13  website_content        121 non-null    object \n",
      " 14  reviews_url_content    140 non-null    object \n",
      " 15  lat_content            140 non-null    float64\n",
      " 16  lng_content            140 non-null    float64\n",
      " 17  website_valid          118 non-null    float64\n",
      " 18  coord_valid            112 non-null    float64\n",
      " 19  postal_code_valid      113 non-null    float64\n",
      "dtypes: float64(9), int64(4), object(7)\n",
      "memory usage: 22.0+ KB\n"
     ]
    }
   ],
   "source": [
    "Googlebusinessmatched.info()"
   ]
  },
  {
   "cell_type": "code",
   "execution_count": 23,
   "id": "5c899746",
   "metadata": {},
   "outputs": [
    {
     "name": "stdout",
     "output_type": "stream",
     "text": [
      "<class 'pandas.core.frame.DataFrame'>\n",
      "RangeIndex: 140 entries, 0 to 139\n",
      "Data columns (total 10 columns):\n",
      " #   Column                Non-Null Count  Dtype  \n",
      "---  ------                --------------  -----  \n",
      " 0   id                    140 non-null    int64  \n",
      " 1   matched               140 non-null    int64  \n",
      " 2   html_content          140 non-null    object \n",
      " 3   scraped               140 non-null    int64  \n",
      " 4   scraped_date          140 non-null    object \n",
      " 5   scrap_cost            140 non-null    int64  \n",
      " 6   scrap_log             0 non-null      float64\n",
      " 7   extracted             140 non-null    int64  \n",
      " 8   review_results        117 non-null    object \n",
      " 9   review_results_count  140 non-null    int64  \n",
      "dtypes: float64(1), int64(6), object(3)\n",
      "memory usage: 11.1+ KB\n"
     ]
    }
   ],
   "source": [
    "GooglebusinessReviews.info()"
   ]
  },
  {
   "cell_type": "code",
   "execution_count": 41,
   "id": "7c1bdf48",
   "metadata": {},
   "outputs": [],
   "source": [
    "def formater_chaine(chaine):\n",
    "    lignes = []\n",
    "    paragraphe = \"\"\n",
    "    index_debut = chaine.find(\"'name'\")\n",
    "    while index_debut != -1:\n",
    "        index_fin = chaine.find(\", 'text'\", index_debut)\n",
    "        if index_fin != -1:\n",
    "            chaine = chaine[:index_debut] + chaine[index_fin:]\n",
    "        else:\n",
    "            break\n",
    "        # Rechercher la prochaine occurrence de \"'name'\"\n",
    "        index_debut = chaine.find(\"'name'\")\n",
    "\n",
    "    chaine = chaine.replace(\"},{\", \"\\n\")\n",
    "    chaine = chaine.replace(\"},\", \"\\n\")\n",
    "    chaine = chaine.replace(\"[{\", \"\")\n",
    "    chaine = chaine.replace(\"}]\", \"\")\n",
    "    chaine = chaine.replace('date','\\n\"date:\"')\n",
    "    chaine = chaine.replace('text','\\n\"avis:\"')\n",
    "    chaine = chaine.replace('rating','\\n\"évaluation:\"')\n",
    "    chaine =chaine.replace(\", '\",\"\")\n",
    "    for carac in chaine:\n",
    "        if carac == \"{\":\n",
    "            lignes.append(paragraphe)\n",
    "            paragraphe = \"\"\n",
    "        else:\n",
    "            paragraphe += carac\n",
    "    if paragraphe:\n",
    "        lignes.append(paragraphe)\n",
    "    return '\\n'.join(lignes)\n",
    "\n",
    "def unicode_to_char(text):\n",
    "    if text is None:\n",
    "        return \"\"\n",
    "    try:\n",
    "        return text.encode('latin1', errors='replace').decode('unicode_escape')\n",
    "    except UnicodeDecodeError:\n",
    "        # Vous pouvez renvoyer text sans modification,\n",
    "        # ou peut-être effectuer une autre forme de transformation/échappement\n",
    "        return text\n",
    "    \n",
    "# Fonction pour nettoyer le texte\n",
    "def clean_text(text):\n",
    "    # Remplacer les caractères de substitution par un espace ou par un autre caractère\n",
    "    # Vous pouvez choisir de supprimer le caractère ou de le remplacer par quelque chose d'autre\n",
    "    return text.encode('utf-8', 'ignore').decode('utf-8')\n"
   ]
  },
  {
   "cell_type": "code",
   "execution_count": 31,
   "id": "f342728d",
   "metadata": {},
   "outputs": [],
   "source": [
    "company_matched_list = []\n",
    "rating_content_list = []\n",
    "name_content_list = []\n",
    "reviews_content_list = []\n",
    "id_matched_list = []\n",
    "website_content_list = []\n",
    "\n",
    "# Itérer sur chaque ligne du DataFrame\n",
    "for index, occurrence in Googlebusinessmatched.iterrows():\n",
    "    company_matched = occurrence['company']\n",
    "    id_matched = occurrence['id']\n",
    "    rating_content = occurrence['rating_content']\n",
    "    name_content = occurrence['name_content']\n",
    "    reviews_content = occurrence['reviews_content']\n",
    "    website_content = occurrence['website_content']\n",
    "    company_matched_list.append(company_matched)\n",
    "    id_matched_list.append(id_matched)\n",
    "    rating_content_list.append(rating_content)\n",
    "    name_content_list.append(name_content)\n",
    "    reviews_content_list.append(reviews_content)\n",
    "    website_content_list.append(website_content)\n"
   ]
  },
  {
   "cell_type": "code",
   "execution_count": 32,
   "id": "88f76e79",
   "metadata": {},
   "outputs": [],
   "source": [
    "review_results_list = []\n",
    "company_google_list = []\n",
    "id_google_list = []\n",
    "SIRET_google_list = []\n",
    "\n",
    "# Itérer sur chaque ligne du DataFrame\n",
    "for index, occurrence in GooglebusinessReviews.iterrows():\n",
    "        id_google = occurrence['matched']\n",
    "        index_id = id_matched_list.index(id_google)\n",
    "        company_google = company_matched_list[index_id]\n",
    "        company_google_list.append(company_google)\n",
    "        id_google_list.append(id_google)\n",
    "        SIRET_google = SIRET_list[company_list.index(company_google)]\n",
    "        SIRET_google_list.append(SIRET_google)\n",
    "        review_results = str(occurrence['review_results'])\n",
    "        review_results = formater_chaine(review_results)\n",
    "        review_results = unicode_to_char(review_results)\n",
    "        review_results_list.append(review_results)"
   ]
  },
  {
   "cell_type": "code",
   "execution_count": 35,
   "id": "55906642",
   "metadata": {},
   "outputs": [],
   "source": [
    "# Créer un dictionnaire vide pour les données\n",
    "donnees = {}\n",
    "\n",
    "# Remplir le dictionnaire avec les listes de données en utilisant le SIRET comme clé\n",
    "for SIRET_google, company_google, rating_content, reviews_content, review_results in zip(SIRET_google_list,\n",
    "                            company_google_list,\n",
    "                            rating_content_list,\n",
    "                            reviews_content_list,\n",
    "                            review_results_list):\n",
    "    donnees[SIRET_google] = {\"SIRET\": SIRET_google,\n",
    "                            \"company\": company_google,\n",
    "                            \"star\": rating_content,\n",
    "                            \"avis\": reviews_content,\n",
    "                            \"resultats\": review_results}\n",
    "donnees = list(donnees.values())"
   ]
  },
  {
   "cell_type": "code",
   "execution_count": 43,
   "id": "3738d8a1",
   "metadata": {},
   "outputs": [],
   "source": [
    "# Conversion de la liste de dictionnaires en DataFrame\n",
    "google_business = pd.DataFrame(donnees)\n",
    "\n",
    "# Appliquer la fonction clean aux données\n",
    "google_business['resultats'] = google_business['resultats'].apply(clean_text)"
   ]
  },
  {
   "cell_type": "code",
   "execution_count": 44,
   "id": "878fc78b",
   "metadata": {},
   "outputs": [],
   "source": [
    "# Obtenir la date actuelle\n",
    "date_actuelle = datetime.now().strftime('%Y-%m-%d')  # Formate la date comme \"AAAA-MM-JJ\"\n",
    "\n",
    "# Créer le nom du fichier avec la date\n",
    "nom_fichier = f\"google_business_{date_actuelle}.csv\"\n",
    "\n",
    "# Exporter le DataFrame en CSV\n",
    "google_business.to_csv(nom_fichier, index=False)"
   ]
  },
  {
   "cell_type": "code",
   "execution_count": null,
   "id": "ec8e8b9e",
   "metadata": {},
   "outputs": [],
   "source": []
  }
 ],
 "metadata": {
  "kernelspec": {
   "display_name": "Python 3 (ipykernel)",
   "language": "python",
   "name": "python3"
  },
  "language_info": {
   "codemirror_mode": {
    "name": "ipython",
    "version": 3
   },
   "file_extension": ".py",
   "mimetype": "text/x-python",
   "name": "python",
   "nbconvert_exporter": "python",
   "pygments_lexer": "ipython3",
   "version": "3.11.5"
  }
 },
 "nbformat": 4,
 "nbformat_minor": 5
}
