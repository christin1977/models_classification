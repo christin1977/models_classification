{
 "cells": [
  {
   "cell_type": "markdown",
   "id": "a245d741",
   "metadata": {},
   "source": [
    "# Analyse Chronologique et Sentiment des Actualités d'Entreprise"
   ]
  },
  {
   "cell_type": "markdown",
   "id": "40490886",
   "metadata": {},
   "source": [
    "## Importation des Bibliothèques Nécessaires"
   ]
  },
  {
   "cell_type": "code",
   "execution_count": null,
   "id": "c04b665b",
   "metadata": {},
   "outputs": [],
   "source": [
    "import pandas as pd\n",
    "from textblob import TextBlob\n",
    "import numpy as np"
   ]
  },
  {
   "cell_type": "markdown",
   "id": "ba8dba57",
   "metadata": {},
   "source": [
    "## Chargement et Organisation des Données"
   ]
  },
  {
   "cell_type": "code",
   "execution_count": null,
   "id": "215b3586",
   "metadata": {},
   "outputs": [],
   "source": [
    "data = pd.read_csv('chemin_vers_votre_fichier.csv')\n",
    "# Assurez-vous que la colonne de date est au format datetime\n",
    "data['date'] = pd.to_datetime(data['date'])\n",
    "data.sort_values('date', inplace=True)"
   ]
  },
  {
   "cell_type": "markdown",
   "id": "bf5cac03",
   "metadata": {},
   "source": [
    "## Analyse de Sentiment"
   ]
  },
  {
   "cell_type": "code",
   "execution_count": null,
   "id": "13225eb9",
   "metadata": {},
   "outputs": [],
   "source": [
    "def analyze_sentiment(text):\n",
    "    analysis = TextBlob(text)\n",
    "    if analysis.sentiment.polarity > 0:\n",
    "        return 'Positif'\n",
    "    elif analysis.sentiment.polarity == 0:\n",
    "        return 'Neutre'\n",
    "    else:\n",
    "        return 'Négatif'\n",
    "\n",
    "data['sentiment'] = data['texte'].apply(analyze_sentiment)"
   ]
  },
  {
   "cell_type": "markdown",
   "id": "8967c285",
   "metadata": {},
   "source": [
    "## Classification des Messages"
   ]
  },
  {
   "cell_type": "code",
   "execution_count": null,
   "id": "a4477a8b",
   "metadata": {},
   "outputs": [],
   "source": [
    "def classify_message(text):\n",
    "    # Adaptez ces conditions selon le contenu typique de vos messages\n",
    "    if 'risque' in text.lower():\n",
    "        return 'Risque'\n",
    "    elif 'opportunité' in text.lower() or 'chance' in text.lower():\n",
    "        return 'Opportunité'\n",
    "    else:\n",
    "        return 'Indéterminé'\n",
    "\n",
    "data['classification'] = data['texte'].apply(classify_message)"
   ]
  },
  {
   "cell_type": "markdown",
   "id": "386a8bdf",
   "metadata": {},
   "source": [
    "## Affichage des Résultats"
   ]
  },
  {
   "cell_type": "code",
   "execution_count": null,
   "id": "abc4a3ab",
   "metadata": {},
   "outputs": [],
   "source": [
    "data[['date', 'texte', 'sentiment', 'classification']]"
   ]
  }
 ],
 "metadata": {},
 "nbformat": 4,
 "nbformat_minor": 5
}
